{
  "cells": [
    {
      "cell_type": "markdown",
      "metadata": {
        "id": "ZflJMHzqm0zT"
      },
      "source": [
        "# Transformer language model implementation\n",
        "\n",
        "This notebook shows how to implement and train a decoder-only transformer for language modeling. It was created to deepen my own understanding of transformers, but I hope it can also be a helpful resource for others wanting to learn more about transformers.\n"
      ]
    },
    {
      "cell_type": "markdown",
      "metadata": {},
      "source": [
        "## Getting started\n",
        "\n",
        "If you're opening this Notebook on colab, you will need to clone the repo and change working directory. Update the `do_clone` variable below to `True` run the cell.\n"
      ]
    },
    {
      "cell_type": "code",
      "execution_count": 158,
      "metadata": {
        "id": "jXz94Ct2e8QG"
      },
      "outputs": [],
      "source": [
        "do_clone = False\n",
        "\n",
        "if do_clone:\n",
        "    !git clone https://github.com/jbergq/transformer.git\n",
        "    %cd transformer"
      ]
    },
    {
      "cell_type": "code",
      "execution_count": 159,
      "metadata": {
        "id": "1msvJlmNm0zW"
      },
      "outputs": [],
      "source": [
        "%%capture\n",
        "%pip install portalocker\n",
        "%pip install -r requirements.txt\n",
        "%pip install pyarrow\n",
        "%pip install --upgrade numpy"
      ]
    },
    {
      "cell_type": "code",
      "execution_count": 160,
      "metadata": {
        "id": "AHT4HP5nkhkV"
      },
      "outputs": [
        {
          "data": {
            "text/plain": [
              "'cpu'"
            ]
          },
          "execution_count": 160,
          "metadata": {},
          "output_type": "execute_result"
        }
      ],
      "source": [
        "import math\n",
        "import torch\n",
        "import torch.nn as nn\n",
        "import torch.nn.functional as F\n",
        "\n",
        "torch.manual_seed(1337)\n",
        "device = \"cuda\" if torch.cuda.is_available() else \"cpu\"\n",
        "device"
      ]
    },
    {
      "cell_type": "markdown",
      "metadata": {},
      "source": [
        "Now, let's create a configuration class that we will use to configure the remaining code in the notebook.\n"
      ]
    },
    {
      "cell_type": "code",
      "execution_count": 161,
      "metadata": {},
      "outputs": [
        {
          "data": {
            "text/plain": [
              "{'model_name': 'toy-model',\n",
              " 'val_size': 1000,\n",
              " 'max_iters': 600000,\n",
              " 'eval_iters': 100,\n",
              " 'eval_interval': 1000,\n",
              " 'effective_batch_size': 512,\n",
              " 'batch_size': 4,\n",
              " 'grad_accum_steps': 128,\n",
              " 'lr': 0.001,\n",
              " 'warmup_iters': 2000,\n",
              " 'lr_decay_iters': 600000,\n",
              " 'min_lr': 6e-05,\n",
              " 'weight_decay': 0.0005,\n",
              " 'print_example': True}"
            ]
          },
          "execution_count": 161,
          "metadata": {},
          "output_type": "execute_result"
        }
      ],
      "source": [
        "from dataclasses import dataclass, asdict\n",
        "from pprint import pprint\n",
        "\n",
        "\n",
        "# Define base config. Partly adopted from nanoGPT by Andrej Karpathy\n",
        "@dataclass\n",
        "class Config:\n",
        "    model_name: str = \"toy-model\"\n",
        "    val_size: int = 1000  # Size of validation set.\n",
        "    max_iters: int = 600000  # Total num training iterations.\n",
        "    eval_iters: int = 100  # Number of evaluation iterations.\n",
        "    eval_interval: int = 1000\n",
        "    effective_batch_size: int = 512\n",
        "    batch_size: int = 4\n",
        "    grad_accum_steps: int = 1\n",
        "    lr: float = 1e-3\n",
        "    warmup_iters: int = 2000\n",
        "    lr_decay_iters: int = 600000  # Should be ~= max_iters per Chinchilla.\n",
        "    min_lr: float = 6e-5  # Minimum lr, should be ~= lr/10 per Chinchilla.\n",
        "    weight_decay: float = 0.0005\n",
        "    print_example: bool = True\n",
        "\n",
        "\n",
        "cfg = Config()\n",
        "\n",
        "# Derive accumulation steps to get target effective batch size.\n",
        "if cfg.effective_batch_size is not None:\n",
        "    cfg.grad_accum_steps = cfg.effective_batch_size // cfg.batch_size\n",
        "\n",
        "if cfg.model_name == \"toy-model\":\n",
        "    cfg.context_size = 64\n",
        "    cfg.embedding_size = 128\n",
        "    cfg.ff_hidden_size = 256\n",
        "    cfg.head_size = None\n",
        "    cfg.num_blocks = 4\n",
        "    cfg.num_heads = 4\n",
        "elif cfg.model_name == \"gpt2-small-custom\":\n",
        "    cfg.context_size = 1024\n",
        "    cfg.embedding_size = 768\n",
        "    cfg.ff_hidden_size = 3072\n",
        "    cfg.head_size = None\n",
        "    cfg.num_blocks = 12\n",
        "    cfg.num_heads = 12\n",
        "\n",
        "if cfg.head_size is None:\n",
        "    cfg.head_size = cfg.embedding_size // cfg.num_heads\n",
        "\n",
        "asdict(cfg)"
      ]
    },
    {
      "cell_type": "markdown",
      "metadata": {},
      "source": [
        "### Dataset\n",
        "\n",
        "We will now set up the training and validation datasets. We will use Hugging Face's `datasets` package to prepare and load the WebText dataset."
      ]
    },
    {
      "cell_type": "code",
      "execution_count": 162,
      "metadata": {},
      "outputs": [],
      "source": [
        "from datasets import load_dataset\n",
        "\n",
        "# Load WebText dataset in streaming mode. No need to download!\n",
        "dataset = load_dataset(\"openwebtext\", streaming=True)[\"train\"]\n",
        "shuffled_dataset = dataset.shuffle(seed=42, buffer_size=10000)\n",
        "\n",
        "# Split dataset.\n",
        "train_set = shuffled_dataset.skip(cfg.val_size)\n",
        "val_set = shuffled_dataset.take(cfg.val_size)"
      ]
    },
    {
      "cell_type": "markdown",
      "metadata": {},
      "source": [
        "Next, we want to convert the dataset into a numeric format that is easier for our model to work with. This process is called _tokenizing_ the dataset.\n",
        "\n",
        "To do this, we will use the GPT-2 tokenizer available from Hugging Face's `transformers` package. It is a *subword* tokenizer, where tokens can represent either full words or word pieces.\n"
      ]
    },
    {
      "cell_type": "code",
      "execution_count": 163,
      "metadata": {},
      "outputs": [
        {
          "data": {
            "text/plain": [
              "50257"
            ]
          },
          "execution_count": 163,
          "metadata": {},
          "output_type": "execute_result"
        }
      ],
      "source": [
        "from transformers import GPT2Tokenizer\n",
        "\n",
        "tokenizer = GPT2Tokenizer.from_pretrained(\"gpt2\")\n",
        "tokenizer.vocab_size"
      ]
    },
    {
      "cell_type": "markdown",
      "metadata": {},
      "source": [
        "Below we define a function called `tokenize` for turning text documents from the dataset into the example input and output sequences for training the model. We will be training a language model which simply predicts the next token in a sequence given the tokens so far as input. Therefore, input sequences will just be the target sequences shifted by one index to the left.\n"
      ]
    },
    {
      "cell_type": "code",
      "execution_count": 164,
      "metadata": {},
      "outputs": [],
      "source": [
        "from functools import partial\n",
        "\n",
        "\n",
        "def tokenize(example):\n",
        "    outputs = tokenizer(\n",
        "        example[\"text\"],\n",
        "        truncation=True,  # Truncate returned token sequences to max_length.\n",
        "        max_length=cfg.context_size + 1,  # Max length of returned token sequences.\n",
        "        return_overflowing_tokens=True,  # Tokenize whole input and split into chunks.\n",
        "        return_length=True,  # Return lengths of chunks.\n",
        "    )\n",
        "\n",
        "    # Create examples.\n",
        "    inp_batch = []\n",
        "    tgt_batch = []\n",
        "    for length, input_ids in zip(outputs[\"length\"], outputs[\"input_ids\"]):\n",
        "        if length == cfg.context_size + 1:  # Only include full length sequences.\n",
        "            inp_batch.append(input_ids[:-1])\n",
        "            tgt_batch.append(input_ids[1:])  # Note: input shifted by one.\n",
        "\n",
        "    return {\"input\": inp_batch, \"target\": tgt_batch}\n",
        "\n",
        "\n",
        "# Tokenize train and val sets.\n",
        "train_tokenized = train_set.map(\n",
        "    partial(tokenize),\n",
        "    batched=True,\n",
        "    remove_columns=train_set.column_names,\n",
        ")\n",
        "val_tokenized = val_set.map(\n",
        "    partial(tokenize),\n",
        "    batched=True,\n",
        "    remove_columns=val_set.column_names,\n",
        ")"
      ]
    },
    {
      "cell_type": "markdown",
      "metadata": {},
      "source": [
        "We will use an \"infinite training loop\" to train the transformer language model, where we continue to sample random batches until we reach convergence or the maximum number of batches configured.\n",
        "\n",
        "Let's create a dataset wrapper that will allow us to continue sampling the dataset endlessly.\n"
      ]
    },
    {
      "cell_type": "code",
      "execution_count": 165,
      "metadata": {},
      "outputs": [],
      "source": [
        "from typing import Iterator\n",
        "\n",
        "from torch.utils.data import IterableDataset\n",
        "\n",
        "\n",
        "class InfiniteIterableDataset(IterableDataset):\n",
        "    def __init__(self, hf_dataset, shuffle=False):\n",
        "        self.hf_dataset = hf_dataset\n",
        "\n",
        "    def __iter__(self) -> Iterator:\n",
        "        while True:\n",
        "            for item in self.hf_dataset:\n",
        "                yield item"
      ]
    },
    {
      "cell_type": "markdown",
      "metadata": {},
      "source": [
        "Finally, we create data loaders to sample batches from the datasets.\n"
      ]
    },
    {
      "cell_type": "code",
      "execution_count": 166,
      "metadata": {},
      "outputs": [],
      "source": [
        "from torch.utils.data import DataLoader\n",
        "\n",
        "train_loader = DataLoader(\n",
        "    InfiniteIterableDataset(train_tokenized),\n",
        "    batch_size=cfg.batch_size,\n",
        "    collate_fn=lambda samples: {\n",
        "        \"input\": torch.tensor([sample[\"input\"] for sample in samples]),\n",
        "        \"target\": torch.tensor([sample[\"target\"] for sample in samples]),\n",
        "    },\n",
        ")\n",
        "val_loader = DataLoader(\n",
        "    InfiniteIterableDataset(val_tokenized),\n",
        "    batch_size=cfg.batch_size,\n",
        "    collate_fn=lambda samples: {\n",
        "        \"input\": torch.tensor([sample[\"input\"] for sample in samples]),\n",
        "        \"target\": torch.tensor([sample[\"target\"] for sample in samples]),\n",
        "    },\n",
        ")\n",
        "\n",
        "train_iter = iter(train_loader)\n",
        "val_iter = iter(train_iter)"
      ]
    },
    {
      "cell_type": "markdown",
      "metadata": {},
      "source": [
        "Load a train batch and a validation batch to make sure everything works.\n"
      ]
    },
    {
      "cell_type": "code",
      "execution_count": 167,
      "metadata": {},
      "outputs": [
        {
          "name": "stdout",
          "output_type": "stream",
          "text": [
            "Input sequence:  tensor([47976, 33265,    11,  5267,    13,   362,   357,    34,  4535,     8])\n",
            "Target sequence:  tensor([33265,    11,  5267,    13,   362,   357,    34,  4535,     8,  6185])\n"
          ]
        }
      ],
      "source": [
        "batch_train = next(train_iter)\n",
        "\n",
        "print(\"Input sequence: \", batch_train[\"input\"][0][:10])\n",
        "print(\"Target sequence: \", batch_train[\"target\"][0][:10])"
      ]
    },
    {
      "cell_type": "code",
      "execution_count": 168,
      "metadata": {},
      "outputs": [
        {
          "name": "stdout",
          "output_type": "stream",
          "text": [
            "Input sequence:  tensor([12256, 35359, 23983,   968, 23222, 13072,  4482,   198,   198,   464])\n",
            "Target sequence:  tensor([35359, 23983,   968, 23222, 13072,  4482,   198,   198,   464,  1380])\n"
          ]
        }
      ],
      "source": [
        "batch_val = next(val_iter)\n",
        "\n",
        "print(\"Input sequence: \", batch_val[\"input\"][0][:10])\n",
        "print(\"Target sequence: \", batch_val[\"target\"][0][:10])"
      ]
    },
    {
      "cell_type": "markdown",
      "metadata": {},
      "source": [
        "Great, it seems to work! Notice how the target sequences are just input sequences shifted one step to the left.\n",
        "\n",
        "Next, let's take a look at implementing the transformer model we will be training.\n"
      ]
    },
    {
      "cell_type": "markdown",
      "metadata": {
        "id": "BfasgDSie4KW"
      },
      "source": [
        "## Model implementation\n"
      ]
    },
    {
      "cell_type": "markdown",
      "metadata": {},
      "source": [
        "This section shows how to implement a transformer decoder, the version of the transformer suitable for language modeling.\n"
      ]
    },
    {
      "cell_type": "markdown",
      "metadata": {},
      "source": [
        "### Transformer decoder\n",
        "\n",
        "Despite what one may think, transformers are actually very simple neural network architectures. We will be implementing a decoder-only transformer, the same type as the GPT family, which is arguably the simplest type of transformer.\n",
        "\n",
        "The diagram below shows the components of a transformer decoder (image adopted from original transformer paper).\n",
        "\n",
        "<img src=\"images/transformer_decoder.png\" height=720></img>\n",
        "\n",
        "We see that there are only a few constituent parts that make up the model architecture:\n",
        "\n",
        "- An initial token embedding layer\n",
        "- $N$ transformer decoder blocks stacked sequentially\n",
        "- A final classification head\n",
        "\n",
        "Let's take a deeper look at these in the sections below.\n"
      ]
    },
    {
      "cell_type": "markdown",
      "metadata": {
        "id": "i0UCKKRUkhkV"
      },
      "source": [
        "### Token embeddings\n",
        "\n",
        "We start with the first layer — token embeddings.\n",
        "\n",
        "<img src=\"images/embedding.png\"></img>\n",
        "\n",
        "This layer maps each token in the input sequence to learned vector representations called embeddings. Once trained, these embeddings can be thought of as representing various linguistic features of each token in the input, such as whether it is a verb, noun or adjective, singular or plural, etc. Since tokens with similar meaning will likely share a number of linguistic features, this also means that their embeddings are likely to be in close proximity in the embedding space. Embeddings therefore also provide a mathematical representation of the relatedness _between_ different tokens.\n",
        "\n",
        "Let's implement a simple token embedding using PyTorch's built-in `nn.Embedding` module. It is essentially a huge lookup table, with each row being the embedding vector for the token with that row number as value. The embeddings consist of parameters that can be trained via normal backpropagation. Since there are `vocab_size` tokens and each embedding has size `embedding_dim`, the embedding table has shape `(vocab_size, embedding_dim)`.\n"
      ]
    },
    {
      "cell_type": "code",
      "execution_count": 169,
      "metadata": {
        "id": "hb59wYjAkhkV"
      },
      "outputs": [],
      "source": [
        "class TokenEmbedding(nn.Module):\n",
        "    def __init__(self, vocab_size, embedding_dim):\n",
        "        super().__init__()\n",
        "\n",
        "        self.embedding = nn.Embedding(vocab_size, embedding_dim)\n",
        "\n",
        "    def forward(self, tokens):\n",
        "        return self.embedding(tokens)"
      ]
    },
    {
      "cell_type": "markdown",
      "metadata": {
        "id": "H8bex-bknXCC"
      },
      "source": [
        "So is that it? Not quite. While we could train our transformer with only token embeddings, the transformer architecture itself has no notion of the _positions_ of tokens in the sqeuence. In natural language, the order of words can completely change the meaning of a sentence, so it is necessary to give our transformer a way to represent this. A common way to address this is to create another embedding that is simply added onto the token embeddings to inject information about its position, called a _positional encoding_.\n",
        "\n",
        "Let's see how it can be implemented. For a sequence length of $T$, we want to generate $T$ vectors that can uniquely represent each position in the sequence. We also want TODO.\n"
      ]
    },
    {
      "cell_type": "code",
      "execution_count": 170,
      "metadata": {
        "id": "LOsSIkH0khkW"
      },
      "outputs": [],
      "source": [
        "class PositionalEncoding(nn.Module):\n",
        "    def __init__(self, context_size, embedding_size, n=10000):\n",
        "        super().__init__()\n",
        "\n",
        "        i = torch.arange(embedding_size // 2)\n",
        "        k = torch.arange(context_size).unsqueeze(dim=1)\n",
        "\n",
        "        pos_embeddings = torch.zeros(context_size, embedding_size, requires_grad=False)\n",
        "        pos_embeddings[:, 0::2] = torch.sin(k / (n ** (2 * i / embedding_size)))\n",
        "        pos_embeddings[:, 1::2] = torch.cos(k / (n ** (2 * i / embedding_size)))\n",
        "\n",
        "        self.register_buffer(\"pos_embeddings\", pos_embeddings)\n",
        "\n",
        "    def forward(self, x):\n",
        "        return self.pos_embeddings[: x.shape[1], :]"
      ]
    },
    {
      "cell_type": "markdown",
      "metadata": {},
      "source": [
        "Let's create a single layer called a `TransformerEmbedding` that combines both of these embeddings.\n"
      ]
    },
    {
      "cell_type": "code",
      "execution_count": 171,
      "metadata": {},
      "outputs": [],
      "source": [
        "class TransformerEmbedding(nn.Module):\n",
        "    def __init__(self, hidden_size, vocab_size, context_size) -> None:\n",
        "        super().__init__()\n",
        "\n",
        "        self.token_embedding = TokenEmbedding(vocab_size, hidden_size)\n",
        "        self.pos_embedding = PositionalEncoding(context_size, hidden_size)\n",
        "\n",
        "    def forward(self, x):\n",
        "        return self.token_embedding(x) + self.pos_embedding(x)"
      ]
    },
    {
      "cell_type": "markdown",
      "metadata": {
        "id": "HA3m27jakhkX"
      },
      "source": [
        "### Transformer blocks\n",
        "\n",
        "Next, we take a look at the decoder transformer block.\n",
        "\n",
        "<img src=\"images/transformer_block.png\"></img>\n",
        "\n",
        "Transformers, like many other neural networks, are made by stacking multiple computational blocks in a sequence. For decoder-type transformers, the blocks contain two main components:\n",
        "\n",
        "- A masked multi-head attention module, responsible for communication between token embeddings.\n",
        "- A feedforward module, responsible for processing token embeddings.\n",
        "\n",
        "By alternating between inter-token communication and per-token processing, transformers are able to produce sophisticated representations of language.\n",
        "\n",
        "For decoder transformer blocks in particular, they have a single property that defines them: they use _masked_ attention. This means that any given token only attends to the tokens that precede it, making the attention _causal_. More on this later.\n"
      ]
    },
    {
      "cell_type": "markdown",
      "metadata": {
        "id": "0nSlS4dabVU_"
      },
      "source": [
        "#### Scaled dot product attention\n",
        "\n",
        "Attention is perhaps the most characteristic and important feature of transformers. _Self-attention_ in particular allows transformers to learn representation of the contextual relationships between tokens in the input sequence.\n",
        "\n",
        "The most common form of self-attention is called scaled dot product attention. Let's see how we can implement it.\n",
        "\n",
        "For _each_ token embedding in the input sequence, we compute three new embeddings of the same size: a query _Q_, a key _K_ and value _V_. These are computed by learned functions in the form of simple `nn.Linear` layers. However, for this implementation the linear layers are placed outside of the scaled dot product attention module (more on this soon), so we simply assume the _Q_, _K_ and _V_ are provided as input.\n",
        "\n",
        "TODO finish\n"
      ]
    },
    {
      "cell_type": "code",
      "execution_count": 172,
      "metadata": {
        "id": "u7NMQVIpkhkX"
      },
      "outputs": [],
      "source": [
        "class ScaledDotProductAttention(nn.Module):\n",
        "    def __init__(self):\n",
        "        super().__init__()\n",
        "\n",
        "        self.softmax = nn.Softmax(dim=-1)\n",
        "\n",
        "    def forward(self, q, k, v, mask=None):\n",
        "        batch_size, head, seq_length, head_size = k.shape\n",
        "\n",
        "        score = (q @ k.transpose(2, 3)) / math.sqrt(head_size)\n",
        "\n",
        "        if mask is not None:\n",
        "            score = score.masked_fill(mask == 0, -1e9)\n",
        "\n",
        "        score = self.softmax(score)\n",
        "\n",
        "        return score @ v"
      ]
    },
    {
      "cell_type": "markdown",
      "metadata": {},
      "source": [
        "#### Masked multi-head attention\n"
      ]
    },
    {
      "cell_type": "code",
      "execution_count": 173,
      "metadata": {
        "id": "UZ69HG2dkhkY"
      },
      "outputs": [],
      "source": [
        "class MultiHeadAttention(nn.Module):\n",
        "    def __init__(self, embedding_size, head_size, num_heads=8):\n",
        "        super().__init__()\n",
        "\n",
        "        self.head_size = head_size\n",
        "        self.num_heads = num_heads\n",
        "\n",
        "        self.attention = ScaledDotProductAttention()\n",
        "\n",
        "        self.lin_q = nn.Linear(embedding_size, head_size * num_heads)\n",
        "        self.lin_k = nn.Linear(embedding_size, head_size * num_heads)\n",
        "        self.lin_v = nn.Linear(embedding_size, head_size * num_heads)\n",
        "\n",
        "        self.lin_concat = nn.Linear(head_size * num_heads, embedding_size)\n",
        "\n",
        "    def forward(self, q, k, v, mask=None):\n",
        "        q, k, v = self.lin_q(q), self.lin_k(k), self.lin_v(v)\n",
        "        q, k, v = self.split(q), self.split(k), self.split(v)\n",
        "\n",
        "        out = self.attention(q, k, v, mask)\n",
        "\n",
        "        out = self.concat(out)\n",
        "        out = self.lin_concat(out)\n",
        "\n",
        "        return out\n",
        "\n",
        "    def split(self, x):\n",
        "        batch_size, seq_len, hidden_size = x.shape\n",
        "\n",
        "        return x.view(batch_size, seq_len, self.num_heads, self.head_size).transpose(1, 2)\n",
        "\n",
        "    def concat(self, x):\n",
        "        batch_size, num_heads, seq_len, head_size = x.shape\n",
        "        hidden_size = head_size * num_heads\n",
        "\n",
        "        return x.transpose(1, 2).contiguous().view(batch_size, seq_len, hidden_size)"
      ]
    },
    {
      "cell_type": "markdown",
      "metadata": {
        "id": "dhzIGpZud2_W"
      },
      "source": [
        "#### Feedforward block\n"
      ]
    },
    {
      "cell_type": "code",
      "execution_count": 174,
      "metadata": {
        "id": "f-fFUhnZkhkZ"
      },
      "outputs": [],
      "source": [
        "class FeedForward(nn.Module):\n",
        "    def __init__(self, in_size, hidden_size, dropout_prob=0.1):\n",
        "        super().__init__()\n",
        "\n",
        "        self.lin1 = nn.Linear(in_size, hidden_size)\n",
        "        self.relu = nn.ReLU()\n",
        "        self.dropout = nn.Dropout(dropout_prob)\n",
        "        self.lin2 = nn.Linear(hidden_size, in_size)\n",
        "\n",
        "    def forward(self, x):\n",
        "        x = self.lin1(x)\n",
        "        x = self.relu(x)\n",
        "        x = self.dropout(x)\n",
        "        x = self.lin2(x)\n",
        "\n",
        "        return x"
      ]
    },
    {
      "cell_type": "markdown",
      "metadata": {
        "id": "ZH1yasend17m"
      },
      "source": [
        "#### Putting it all together\n"
      ]
    },
    {
      "cell_type": "code",
      "execution_count": 175,
      "metadata": {
        "id": "wM-BqKAVkhkZ"
      },
      "outputs": [],
      "source": [
        "class DecoderBlock(nn.Module):\n",
        "    def __init__(\n",
        "        self,\n",
        "        hidden_size,\n",
        "        ff_hidden_size,\n",
        "        head_size,\n",
        "        num_heads,\n",
        "        dropout_prob=0.1,\n",
        "        layer_norm_eps=1e-5,\n",
        "    ):\n",
        "        super().__init__()\n",
        "\n",
        "        self.attention1 = MultiHeadAttention(hidden_size, head_size, num_heads)\n",
        "        self.norm1 = nn.LayerNorm(hidden_size, eps=layer_norm_eps)\n",
        "        self.dropout1 = nn.Dropout(dropout_prob)\n",
        "\n",
        "        self.ff_block = FeedForward(hidden_size, ff_hidden_size, dropout_prob)\n",
        "\n",
        "        self.norm3 = nn.LayerNorm(hidden_size, eps=layer_norm_eps)\n",
        "        self.dropout3 = nn.Dropout(dropout_prob)\n",
        "\n",
        "    def forward(self, x, lookahead_mask=None):\n",
        "        x_n = self.norm1(x)\n",
        "        x_a = self.attention1(q=x_n, k=x_n, v=x_n, mask=lookahead_mask)\n",
        "\n",
        "        x = self.dropout1(x + x_a)\n",
        "\n",
        "        x_f = self.ff_block(self.norm3(x))\n",
        "\n",
        "        x = self.dropout3(x + x_f)\n",
        "\n",
        "        return x"
      ]
    },
    {
      "cell_type": "code",
      "execution_count": 176,
      "metadata": {},
      "outputs": [],
      "source": [
        "class Classifier(nn.Module):\n",
        "    def __init__(self, hidden_size, vocab_size) -> None:\n",
        "        super().__init__()\n",
        "\n",
        "        self.ln_final = nn.LayerNorm(hidden_size)\n",
        "        self.lin_final = nn.Linear(hidden_size, vocab_size)\n",
        "\n",
        "    def forward(self, x):\n",
        "        x = self.ln_final(x)\n",
        "        x = self.lin_final(x)\n",
        "\n",
        "        return x"
      ]
    },
    {
      "cell_type": "code",
      "execution_count": 177,
      "metadata": {
        "id": "maMrEmGakhkZ"
      },
      "outputs": [],
      "source": [
        "class TransformerDecoder(nn.Module):\n",
        "    def __init__(\n",
        "        self,\n",
        "        vocab_size,\n",
        "        context_size,\n",
        "        embedding_size,\n",
        "        ff_hidden_size,\n",
        "        head_size,\n",
        "        num_blocks=5,\n",
        "        num_heads=8,\n",
        "    ):\n",
        "        super().__init__()\n",
        "        self.register_buffer(\"tri\", torch.tril(torch.ones(context_size, context_size)))\n",
        "\n",
        "        self.embedding = TransformerEmbedding(embedding_size, vocab_size, context_size)\n",
        "\n",
        "        self.decoder = []\n",
        "        for _ in range(num_blocks):\n",
        "            self.decoder.append(DecoderBlock(embedding_size, ff_hidden_size, head_size, num_heads))\n",
        "        self.decoder = nn.ModuleList(self.decoder)\n",
        "\n",
        "        self.classifier = Classifier(embedding_size, vocab_size)\n",
        "\n",
        "    def create_lookahead_mask(self, tgt_seq_len):\n",
        "        return self.tri[:tgt_seq_len, :tgt_seq_len].unsqueeze(0)\n",
        "\n",
        "    def forward(self, x):\n",
        "        lookahead_mask = self.create_lookahead_mask(x.shape[1])\n",
        "\n",
        "        x = self.embedding(x)\n",
        "\n",
        "        for block in self.decoder:\n",
        "            x = block(x, lookahead_mask)\n",
        "\n",
        "        out = self.classifier(x)\n",
        "\n",
        "        return out"
      ]
    },
    {
      "cell_type": "markdown",
      "metadata": {
        "id": "R37B9vSskhka"
      },
      "source": [
        "## Training\n"
      ]
    },
    {
      "cell_type": "markdown",
      "metadata": {
        "id": "19dc6w9skhka"
      },
      "source": [
        "### Util functions\n"
      ]
    },
    {
      "cell_type": "code",
      "execution_count": 178,
      "metadata": {
        "id": "bij47miWkhka"
      },
      "outputs": [],
      "source": [
        "def count_model_params(model):\n",
        "    total_params = 0\n",
        "    for params in list(model.parameters()):\n",
        "        num = 1\n",
        "        for size in list(params.size()):\n",
        "            num = num * size\n",
        "        total_params += num\n",
        "    return total_params"
      ]
    },
    {
      "cell_type": "code",
      "execution_count": 179,
      "metadata": {
        "id": "pL41KLW_jiEi"
      },
      "outputs": [],
      "source": [
        "# Loss estimation function inspired by nanoGPT repo by Andrej Karpathy.\n",
        "@torch.no_grad()\n",
        "def estimate_loss(model, criterion, train_iter, val_iter, num_iters):\n",
        "    iterators = {\"train\": train_iter, \"val\": val_iter}\n",
        "    loss_dict = {}\n",
        "    model.eval()\n",
        "    for split, iterator in iterators.items():\n",
        "        losses = torch.zeros(num_iters)\n",
        "        for k in range(num_iters):\n",
        "            batch = next(iterator)\n",
        "            inp, tgt = batch[\"input\"].to(device), batch[\"target\"].to(device)\n",
        "\n",
        "            out = model(inp)\n",
        "\n",
        "            out_reshape = out.contiguous().view(-1, out.shape[-1])  # (B * T, vocab_size)\n",
        "            tgt_reshape = tgt.contiguous().view(-1)  # (B * T, 1)\n",
        "\n",
        "            loss = criterion(out_reshape, tgt_reshape)\n",
        "            losses[k] = loss.item()\n",
        "        loss_dict[split] = losses.mean()\n",
        "    model.train()\n",
        "\n",
        "    return loss_dict"
      ]
    },
    {
      "cell_type": "code",
      "execution_count": 180,
      "metadata": {
        "id": "v_wxV90YjnUq"
      },
      "outputs": [],
      "source": [
        "# Learning rate decay scheduler inspired by nanoGPT repo by Andrej Karpathy.\n",
        "def get_lr(iter, warmup_iters, base_lr, min_lr, lr_decay_iters):\n",
        "    # 1) linear warmup for warmup_iters steps\n",
        "    if iter < warmup_iters:\n",
        "        return base_lr * iter / warmup_iters\n",
        "    # 2) if it > lr_decay_iters, return min learning rate\n",
        "    if iter > lr_decay_iters:\n",
        "        return min_lr\n",
        "    # 3) in between, use cosine decay down to min learning rate\n",
        "    decay_ratio = (iter - warmup_iters) / (lr_decay_iters - warmup_iters)\n",
        "    assert 0 <= decay_ratio <= 1\n",
        "    coeff = 0.5 * (1.0 + math.cos(math.pi * decay_ratio))  # coeff ranges 0..1\n",
        "    return min_lr + coeff * (base_lr - min_lr)"
      ]
    },
    {
      "cell_type": "code",
      "execution_count": 181,
      "metadata": {},
      "outputs": [],
      "source": [
        "@torch.no_grad()\n",
        "def generate(model, inp_seq, context_size, max_output_len=100):\n",
        "    seq = inp_seq\n",
        "\n",
        "    for _ in range(max_output_len):\n",
        "        out = model(seq[..., -context_size:])  # Truncate input sequence to max length.\n",
        "        probs = F.softmax(out[:, -1, :], dim=1)\n",
        "        next_tokens = torch.multinomial(probs, num_samples=1)\n",
        "\n",
        "        # Append the next tokens to the generated sequences.\n",
        "        seq = torch.cat((seq, next_tokens), dim=-1)\n",
        "\n",
        "    return seq"
      ]
    },
    {
      "cell_type": "code",
      "execution_count": 182,
      "metadata": {},
      "outputs": [],
      "source": [
        "def train_start_print(model):\n",
        "    e_string = \"=\" * 45\n",
        "\n",
        "    num_params = count_model_params(model)\n",
        "    num_params_m = num_params / 1e6\n",
        "\n",
        "    print(\"\\n\" + e_string)\n",
        "    print(\"Starting training!\")\n",
        "    print(\"Num model params: {num_params_m:.3f}M\".format(num_params_m=num_params_m))\n",
        "    print(e_string + \"\\n\")\n",
        "\n",
        "\n",
        "def iter_print(iter, train_loss, newline_interval=50):\n",
        "    l_string = \"-\" * 45\n",
        "    f_str = \"{: <10} {: <10.5}\"\n",
        "\n",
        "    if iter % 500 == 0:\n",
        "        print(l_string)\n",
        "        print(f_str.format(\"Iter\", \"Train loss\"))\n",
        "        print(l_string)\n",
        "    print(f_str.format(iter, train_loss), end=\"\\r\" if iter % newline_interval else \"\\n\")\n",
        "\n",
        "\n",
        "def evaluation_print(losses):\n",
        "    e_string = \"=\" * 45\n",
        "\n",
        "    print(\"\\n\\n\" + e_string)\n",
        "    print(\"Evaluation done!\")\n",
        "    print(\"Mean train loss: {mean_loss:.3f}\".format(mean_loss=losses[\"train\"]))\n",
        "    print(\"Mean validation loss: {mean_loss:.3f}\".format(mean_loss=losses[\"val\"]))\n",
        "    print(e_string + \"\\n\")"
      ]
    },
    {
      "cell_type": "markdown",
      "metadata": {
        "id": "7A6hdPR3h8sl"
      },
      "source": [
        "### Training loop\n"
      ]
    },
    {
      "cell_type": "code",
      "execution_count": 183,
      "metadata": {},
      "outputs": [],
      "source": [
        "model = TransformerDecoder(\n",
        "    vocab_size=tokenizer.vocab_size,\n",
        "    context_size=cfg.context_size,\n",
        "    embedding_size=cfg.embedding_size,\n",
        "    ff_hidden_size=cfg.ff_hidden_size,\n",
        "    head_size=cfg.head_size,\n",
        "    num_blocks=cfg.num_blocks,\n",
        "    num_heads=cfg.num_heads,\n",
        ")\n",
        "model = model.to(device)\n",
        "model.train()\n",
        "\n",
        "optimizer = torch.optim.Adam(model.parameters(), lr=cfg.lr, weight_decay=cfg.weight_decay, eps=5e-9)\n",
        "criterion = nn.CrossEntropyLoss(ignore_index=1)"
      ]
    },
    {
      "cell_type": "code",
      "execution_count": 184,
      "metadata": {},
      "outputs": [
        {
          "data": {
            "text/plain": [
              "Text(0, 0.5, 'lr')"
            ]
          },
          "execution_count": 184,
          "metadata": {},
          "output_type": "execute_result"
        },
        {
          "data": {
            "image/png": "[encoded data removed]",
            "text/plain": [
              "<Figure size 640x480 with 1 Axes>"
            ]
          },
          "metadata": {},
          "output_type": "display_data"
        }
      ],
      "source": [
        "import matplotlib.pyplot as plt\n",
        "\n",
        "lrs = [\n",
        "    get_lr(\n",
        "        iter,\n",
        "        warmup_iters=cfg.warmup_iters,\n",
        "        base_lr=cfg.lr,\n",
        "        min_lr=cfg.min_lr,\n",
        "        lr_decay_iters=cfg.lr_decay_iters,\n",
        "    )\n",
        "    for iter in range(0, 1_000_000, 1)\n",
        "]\n",
        "plt.plot(lrs)\n",
        "plt.xlabel(\"iter\")\n",
        "plt.ylabel(\"lr\")"
      ]
    },
    {
      "cell_type": "markdown",
      "metadata": {
        "id": "CEcsttYYewqu"
      },
      "source": [
        "To get an estimate for what loss values are reasonable to reach, let's load the original GPT-2 using HuggingFace and evaluate it with a few samples.\n"
      ]
    },
    {
      "cell_type": "code",
      "execution_count": 185,
      "metadata": {
        "id": "I_L3vAwXewqu"
      },
      "outputs": [
        {
          "data": {
            "text/plain": [
              "{'train': tensor(3.5675), 'val': tensor(3.5477)}"
            ]
          },
          "execution_count": 185,
          "metadata": {},
          "output_type": "execute_result"
        }
      ],
      "source": [
        "from transformers import AutoModelWithLMHead, AutoConfig\n",
        "\n",
        "\n",
        "class GPT2Wrapped(nn.Module):\n",
        "    def __init__(self, pretrained=False) -> None:\n",
        "        super().__init__()\n",
        "        if pretrained:\n",
        "            self.model = AutoModelWithLMHead.from_pretrained(\"gpt2\")\n",
        "        else:\n",
        "            config = AutoConfig.from_pretrained(\"gpt2\")\n",
        "            self.model = AutoModelWithLMHead.from_config(config)\n",
        "\n",
        "        self.context_size = self.model.config.n_ctx\n",
        "\n",
        "    def forward(self, x):\n",
        "        return self.model(x).logits\n",
        "\n",
        "\n",
        "gpt2 = GPT2Wrapped(pretrained=True)\n",
        "\n",
        "losses = estimate_loss(gpt2, criterion, train_iter, val_iter, 100)\n",
        "losses"
      ]
    },
    {
      "cell_type": "markdown",
      "metadata": {},
      "source": [
        "We see that the pre-trained GPT-2 reaches a fairly impressive train and validation loss of about 3.5.\n"
      ]
    },
    {
      "cell_type": "code",
      "execution_count": 186,
      "metadata": {
        "id": "50nBJQLjm0zX"
      },
      "outputs": [
        {
          "name": "stdout",
          "output_type": "stream",
          "text": [
            "Example sequence:  pei, Nov. 2 (CNA) Bitcoin is illegal in Taiwan, said Financial Supervisory Commission (FSC) Chairman Tseng Ming-chung (曾銘宗) on Monday after kidnappers in Taiwan tried to collect a ransom through the v\n",
            "Model output:  The Koen AVGVolume alum Adams Debor MUS crochet Knifecould Graph SPR unconstitutional Haas Pixar frameworkspat drum ICE Las mysterious Apocalypse Influence 58 utilitarianerofp didnt broadcaster cease \n",
            "\n",
            "=============================================\n",
            "Starting training!\n",
            "Num model params: 13.446M\n",
            "=============================================\n",
            "\n",
            "---------------------------------------------\n",
            "Iter       Train     \n",
            "---------------------------------------------\n",
            "0          11.001    \n",
            "50         11.028    \n",
            "100        10.971    \n",
            "150        10.974    \n",
            "200        10.979    \n",
            "250        11.031    \n",
            "300        10.886    \n",
            "350        10.93     \n",
            "400        10.939    \n",
            "450        10.959    \n",
            "---------------------------------------------\n",
            "Iter       Train     \n",
            "---------------------------------------------\n",
            "500        10.926    \n",
            "550        10.828    \n",
            "600        10.82     \n",
            "650        10.922    \n",
            "700        10.733    \n",
            "750        10.861    \n",
            "800        10.813    \n",
            "850        10.729    \n",
            "900        10.603    \n",
            "950        10.675    \n",
            "999        10.651    \n",
            "\n",
            "=============================================\n",
            "Evaluation done!\n",
            "Mean train loss: 10.524\n",
            "Mean validation loss: 10.527\n",
            "=============================================\n",
            "\n",
            "Model output:  Thechukreys leaders poem Leonard Ü Queen Tuc// parentsractor measuring Pesh unarmed032fc Doylefolk Courier Sources stump citationMale cursinery thy poachingELL Nanto approximateablwroteIndeed concentr\n",
            "---------------------------------------------\n",
            "Iter       Train     \n",
            "---------------------------------------------\n",
            "1000       10.658    \n",
            "1050       10.578    \n",
            "1100       10.576    \n",
            "1150       10.556    \n",
            "1200       10.425    \n",
            "1250       10.462    \n",
            "1300       10.443    \n",
            "1350       10.414    \n",
            "1400       10.35     \n",
            "1450       10.287    \n",
            "---------------------------------------------\n",
            "Iter       Train     \n",
            "---------------------------------------------\n",
            "1500       10.378    \n",
            "1550       10.222    \n",
            "1600       10.274    \n",
            "1650       10.288    \n",
            "1700       10.091    \n",
            "1750       10.026    \n",
            "1800       9.9424    \n",
            "1850       9.8969    \n",
            "1900       9.9276    \n",
            "1950       9.7168    \n",
            "1999       9.7915    \n",
            "\n",
            "=============================================\n",
            "Evaluation done!\n",
            "Mean train loss: 9.626\n",
            "Mean validation loss: 9.620\n",
            "=============================================\n",
            "\n",
            "Model output:  The Ethnicdating DemsAuthor Films art sailor Parker prohib interesting chained316 horniblicalModLoader rulers aperture Author Featuring contribution Previous EthiopiaG salsa happyressesPanAnn Vader po\n",
            "---------------------------------------------\n",
            "Iter       Train     \n",
            "---------------------------------------------\n",
            "2000       9.7657    \n",
            "2050       9.7498    \n",
            "2100       9.5956    \n",
            "2150       9.6137    \n",
            "2174       9.7476    \r"
          ]
        },
        {
          "ename": "KeyboardInterrupt",
          "evalue": "",
          "output_type": "error",
          "traceback": [
            "\u001b[0;31m---------------------------------------------------------------------------\u001b[0m",
            "\u001b[0;31mKeyboardInterrupt\u001b[0m                         Traceback (most recent call last)",
            "\u001b[1;32m/home/jonathanb/git/transformer/train.ipynb Cell 55\u001b[0m line \u001b[0;36m3\n\u001b[1;32m     <a href='vscode-notebook-cell:/home/jonathanb/git/transformer/train.ipynb#Y110sZmlsZQ%3D%3D?line=34'>35</a>\u001b[0m batch \u001b[39m=\u001b[39m \u001b[39mnext\u001b[39m(train_iter)\n\u001b[1;32m     <a href='vscode-notebook-cell:/home/jonathanb/git/transformer/train.ipynb#Y110sZmlsZQ%3D%3D?line=35'>36</a>\u001b[0m inp, tgt \u001b[39m=\u001b[39m batch[\u001b[39m\"\u001b[39m\u001b[39minput\u001b[39m\u001b[39m\"\u001b[39m]\u001b[39m.\u001b[39mto(device), batch[\u001b[39m\"\u001b[39m\u001b[39mtarget\u001b[39m\u001b[39m\"\u001b[39m]\u001b[39m.\u001b[39mto(device)\n\u001b[0;32m---> <a href='vscode-notebook-cell:/home/jonathanb/git/transformer/train.ipynb#Y110sZmlsZQ%3D%3D?line=37'>38</a>\u001b[0m out \u001b[39m=\u001b[39m model(inp)\n\u001b[1;32m     <a href='vscode-notebook-cell:/home/jonathanb/git/transformer/train.ipynb#Y110sZmlsZQ%3D%3D?line=39'>40</a>\u001b[0m out_reshape \u001b[39m=\u001b[39m out\u001b[39m.\u001b[39mcontiguous()\u001b[39m.\u001b[39mview(\u001b[39m-\u001b[39m\u001b[39m1\u001b[39m, out\u001b[39m.\u001b[39mshape[\u001b[39m-\u001b[39m\u001b[39m1\u001b[39m])  \u001b[39m# (B * T, vocab_size)\u001b[39;00m\n\u001b[1;32m     <a href='vscode-notebook-cell:/home/jonathanb/git/transformer/train.ipynb#Y110sZmlsZQ%3D%3D?line=40'>41</a>\u001b[0m tgt_reshape \u001b[39m=\u001b[39m tgt\u001b[39m.\u001b[39mcontiguous()\u001b[39m.\u001b[39mview(\u001b[39m-\u001b[39m\u001b[39m1\u001b[39m)  \u001b[39m# (B * T, 1)\u001b[39;00m\n",
            "File \u001b[0;32m~/git/transformer/venv/lib/python3.9/site-packages/torch/nn/modules/module.py:1110\u001b[0m, in \u001b[0;36mModule._call_impl\u001b[0;34m(self, *input, **kwargs)\u001b[0m\n\u001b[1;32m   1106\u001b[0m \u001b[39m# If we don't have any hooks, we want to skip the rest of the logic in\u001b[39;00m\n\u001b[1;32m   1107\u001b[0m \u001b[39m# this function, and just call forward.\u001b[39;00m\n\u001b[1;32m   1108\u001b[0m \u001b[39mif\u001b[39;00m \u001b[39mnot\u001b[39;00m (\u001b[39mself\u001b[39m\u001b[39m.\u001b[39m_backward_hooks \u001b[39mor\u001b[39;00m \u001b[39mself\u001b[39m\u001b[39m.\u001b[39m_forward_hooks \u001b[39mor\u001b[39;00m \u001b[39mself\u001b[39m\u001b[39m.\u001b[39m_forward_pre_hooks \u001b[39mor\u001b[39;00m _global_backward_hooks\n\u001b[1;32m   1109\u001b[0m         \u001b[39mor\u001b[39;00m _global_forward_hooks \u001b[39mor\u001b[39;00m _global_forward_pre_hooks):\n\u001b[0;32m-> 1110\u001b[0m     \u001b[39mreturn\u001b[39;00m forward_call(\u001b[39m*\u001b[39;49m\u001b[39minput\u001b[39;49m, \u001b[39m*\u001b[39;49m\u001b[39m*\u001b[39;49mkwargs)\n\u001b[1;32m   1111\u001b[0m \u001b[39m# Do not call functions when jit is used\u001b[39;00m\n\u001b[1;32m   1112\u001b[0m full_backward_hooks, non_full_backward_hooks \u001b[39m=\u001b[39m [], []\n",
            "\u001b[1;32m/home/jonathanb/git/transformer/train.ipynb Cell 55\u001b[0m line \u001b[0;36m3\n\u001b[1;32m     <a href='vscode-notebook-cell:/home/jonathanb/git/transformer/train.ipynb#Y110sZmlsZQ%3D%3D?line=31'>32</a>\u001b[0m \u001b[39mfor\u001b[39;00m block \u001b[39min\u001b[39;00m \u001b[39mself\u001b[39m\u001b[39m.\u001b[39mdecoder:\n\u001b[1;32m     <a href='vscode-notebook-cell:/home/jonathanb/git/transformer/train.ipynb#Y110sZmlsZQ%3D%3D?line=32'>33</a>\u001b[0m     x \u001b[39m=\u001b[39m block(x, lookahead_mask)\n\u001b[0;32m---> <a href='vscode-notebook-cell:/home/jonathanb/git/transformer/train.ipynb#Y110sZmlsZQ%3D%3D?line=34'>35</a>\u001b[0m out \u001b[39m=\u001b[39m \u001b[39mself\u001b[39;49m\u001b[39m.\u001b[39;49mclassifier(x)\n\u001b[1;32m     <a href='vscode-notebook-cell:/home/jonathanb/git/transformer/train.ipynb#Y110sZmlsZQ%3D%3D?line=36'>37</a>\u001b[0m \u001b[39mreturn\u001b[39;00m out\n",
            "File \u001b[0;32m~/git/transformer/venv/lib/python3.9/site-packages/torch/nn/modules/module.py:1110\u001b[0m, in \u001b[0;36mModule._call_impl\u001b[0;34m(self, *input, **kwargs)\u001b[0m\n\u001b[1;32m   1106\u001b[0m \u001b[39m# If we don't have any hooks, we want to skip the rest of the logic in\u001b[39;00m\n\u001b[1;32m   1107\u001b[0m \u001b[39m# this function, and just call forward.\u001b[39;00m\n\u001b[1;32m   1108\u001b[0m \u001b[39mif\u001b[39;00m \u001b[39mnot\u001b[39;00m (\u001b[39mself\u001b[39m\u001b[39m.\u001b[39m_backward_hooks \u001b[39mor\u001b[39;00m \u001b[39mself\u001b[39m\u001b[39m.\u001b[39m_forward_hooks \u001b[39mor\u001b[39;00m \u001b[39mself\u001b[39m\u001b[39m.\u001b[39m_forward_pre_hooks \u001b[39mor\u001b[39;00m _global_backward_hooks\n\u001b[1;32m   1109\u001b[0m         \u001b[39mor\u001b[39;00m _global_forward_hooks \u001b[39mor\u001b[39;00m _global_forward_pre_hooks):\n\u001b[0;32m-> 1110\u001b[0m     \u001b[39mreturn\u001b[39;00m forward_call(\u001b[39m*\u001b[39;49m\u001b[39minput\u001b[39;49m, \u001b[39m*\u001b[39;49m\u001b[39m*\u001b[39;49mkwargs)\n\u001b[1;32m   1111\u001b[0m \u001b[39m# Do not call functions when jit is used\u001b[39;00m\n\u001b[1;32m   1112\u001b[0m full_backward_hooks, non_full_backward_hooks \u001b[39m=\u001b[39m [], []\n",
            "\u001b[1;32m/home/jonathanb/git/transformer/train.ipynb Cell 55\u001b[0m line \u001b[0;36m1\n\u001b[1;32m      <a href='vscode-notebook-cell:/home/jonathanb/git/transformer/train.ipynb#Y110sZmlsZQ%3D%3D?line=7'>8</a>\u001b[0m \u001b[39mdef\u001b[39;00m \u001b[39mforward\u001b[39m(\u001b[39mself\u001b[39m, x):\n\u001b[1;32m      <a href='vscode-notebook-cell:/home/jonathanb/git/transformer/train.ipynb#Y110sZmlsZQ%3D%3D?line=8'>9</a>\u001b[0m     x \u001b[39m=\u001b[39m \u001b[39mself\u001b[39m\u001b[39m.\u001b[39mln_final(x)\n\u001b[0;32m---> <a href='vscode-notebook-cell:/home/jonathanb/git/transformer/train.ipynb#Y110sZmlsZQ%3D%3D?line=9'>10</a>\u001b[0m     x \u001b[39m=\u001b[39m \u001b[39mself\u001b[39;49m\u001b[39m.\u001b[39;49mlin_final(x)\n\u001b[1;32m     <a href='vscode-notebook-cell:/home/jonathanb/git/transformer/train.ipynb#Y110sZmlsZQ%3D%3D?line=11'>12</a>\u001b[0m     \u001b[39mreturn\u001b[39;00m x\n",
            "File \u001b[0;32m~/git/transformer/venv/lib/python3.9/site-packages/torch/nn/modules/module.py:1110\u001b[0m, in \u001b[0;36mModule._call_impl\u001b[0;34m(self, *input, **kwargs)\u001b[0m\n\u001b[1;32m   1106\u001b[0m \u001b[39m# If we don't have any hooks, we want to skip the rest of the logic in\u001b[39;00m\n\u001b[1;32m   1107\u001b[0m \u001b[39m# this function, and just call forward.\u001b[39;00m\n\u001b[1;32m   1108\u001b[0m \u001b[39mif\u001b[39;00m \u001b[39mnot\u001b[39;00m (\u001b[39mself\u001b[39m\u001b[39m.\u001b[39m_backward_hooks \u001b[39mor\u001b[39;00m \u001b[39mself\u001b[39m\u001b[39m.\u001b[39m_forward_hooks \u001b[39mor\u001b[39;00m \u001b[39mself\u001b[39m\u001b[39m.\u001b[39m_forward_pre_hooks \u001b[39mor\u001b[39;00m _global_backward_hooks\n\u001b[1;32m   1109\u001b[0m         \u001b[39mor\u001b[39;00m _global_forward_hooks \u001b[39mor\u001b[39;00m _global_forward_pre_hooks):\n\u001b[0;32m-> 1110\u001b[0m     \u001b[39mreturn\u001b[39;00m forward_call(\u001b[39m*\u001b[39;49m\u001b[39minput\u001b[39;49m, \u001b[39m*\u001b[39;49m\u001b[39m*\u001b[39;49mkwargs)\n\u001b[1;32m   1111\u001b[0m \u001b[39m# Do not call functions when jit is used\u001b[39;00m\n\u001b[1;32m   1112\u001b[0m full_backward_hooks, non_full_backward_hooks \u001b[39m=\u001b[39m [], []\n",
            "File \u001b[0;32m~/git/transformer/venv/lib/python3.9/site-packages/torch/nn/modules/linear.py:103\u001b[0m, in \u001b[0;36mLinear.forward\u001b[0;34m(self, input)\u001b[0m\n\u001b[1;32m    102\u001b[0m \u001b[39mdef\u001b[39;00m \u001b[39mforward\u001b[39m(\u001b[39mself\u001b[39m, \u001b[39minput\u001b[39m: Tensor) \u001b[39m-\u001b[39m\u001b[39m>\u001b[39m Tensor:\n\u001b[0;32m--> 103\u001b[0m     \u001b[39mreturn\u001b[39;00m F\u001b[39m.\u001b[39;49mlinear(\u001b[39minput\u001b[39;49m, \u001b[39mself\u001b[39;49m\u001b[39m.\u001b[39;49mweight, \u001b[39mself\u001b[39;49m\u001b[39m.\u001b[39;49mbias)\n",
            "\u001b[0;31mKeyboardInterrupt\u001b[0m: "
          ]
        }
      ],
      "source": [
        "fixed_inp = torch.tensor(tokenizer.encode(\"The\"), dtype=torch.long, device=device).unsqueeze(0)\n",
        "\n",
        "if cfg.print_example:\n",
        "    batch = next(iter(train_loader))\n",
        "    out = generate(model, fixed_inp, cfg.context_size)\n",
        "\n",
        "    print(\"Example sequence: \", tokenizer.decode(batch[\"target\"][0].numpy())[:200])\n",
        "    print(\"Model output: \", tokenizer.decode(out[0].detach().cpu().numpy())[:200])\n",
        "\n",
        "# Reinitialize data iterators.\n",
        "train_iter = iter(train_loader)\n",
        "val_iter = iter(train_iter)\n",
        "\n",
        "iter_num = 0\n",
        "best_val_loss = float(\"inf\")\n",
        "\n",
        "# Start training.\n",
        "train_start_print(model)\n",
        "\n",
        "\n",
        "while True:\n",
        "    # Get learning rate according to schedule.\n",
        "    lr = get_lr(\n",
        "        iter_num,\n",
        "        warmup_iters=cfg.warmup_iters,\n",
        "        base_lr=cfg.lr,\n",
        "        min_lr=cfg.min_lr,\n",
        "        lr_decay_iters=cfg.lr_decay_iters,\n",
        "    )\n",
        "\n",
        "    for param_group in optimizer.param_groups:\n",
        "        param_group[\"lr\"] = lr\n",
        "\n",
        "    # Train model on one batch.\n",
        "    batch = next(train_iter)\n",
        "    inp, tgt = batch[\"input\"].to(device), batch[\"target\"].to(device)\n",
        "\n",
        "    out = model(inp)\n",
        "\n",
        "    out_reshape = out.contiguous().view(-1, out.shape[-1])  # (B * T, vocab_size)\n",
        "    tgt_reshape = tgt.contiguous().view(-1)  # (B * T, 1)\n",
        "\n",
        "    train_loss = criterion(out_reshape, tgt_reshape)\n",
        "    train_loss.backward()\n",
        "\n",
        "    # Accumulate gradients for N steps and update weights.\n",
        "    if (iter_num + 1) % cfg.grad_accum_steps == 0:\n",
        "        optimizer.step()\n",
        "        optimizer.zero_grad(set_to_none=True)\n",
        "\n",
        "    if iter_num > 0 and iter_num % cfg.eval_interval == 0:\n",
        "        losses = estimate_loss(model, criterion, train_iter, val_iter, cfg.eval_iters)\n",
        "        evaluation_print(losses)\n",
        "\n",
        "        # Generate sample and print.\n",
        "        out = generate(model, fixed_inp, cfg.context_size)\n",
        "        print(\"Model output: \", tokenizer.decode(out[0].detach().cpu().numpy())[:200])\n",
        "\n",
        "        # Save model checkpoint if new best validation loss.\n",
        "        if losses[\"val\"] < best_val_loss:\n",
        "            torch.save(\n",
        "                {\n",
        "                    \"iter\": iter_num,\n",
        "                    \"model_state_dict\": model.state_dict(),\n",
        "                    \"optimizer_state_dict\": optimizer.state_dict(),\n",
        "                },\n",
        "                \"best.pth\",\n",
        "            )\n",
        "\n",
        "    iter_print(iter_num, train_loss)\n",
        "    iter_num += 1"
      ]
    }
  ],
  "metadata": {
    "accelerator": "GPU",
    "colab": {
      "provenance": [],
      "toc_visible": true
    },
    "gpuClass": "standard",
    "kernelspec": {
      "display_name": "venv",
      "language": "python",
      "name": "python3"
    },
    "language_info": {
      "codemirror_mode": {
        "name": "ipython",
        "version": 3
      },
      "file_extension": ".py",
      "mimetype": "text/x-python",
      "name": "python",
      "nbconvert_exporter": "python",
      "pygments_lexer": "ipython3",
      "version": "3.9.18"
    },
    "orig_nbformat": 4
  },
  "nbformat": 4,
  "nbformat_minor": 0
}
